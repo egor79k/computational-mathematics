{
 "cells": [
  {
   "cell_type": "markdown",
   "id": "6adf34dd",
   "metadata": {},
   "source": [
    "### Домашнее задание №1 Ошибки и их распространение"
   ]
  },
  {
   "cell_type": "code",
   "execution_count": 3,
   "id": "3dd077cb",
   "metadata": {},
   "outputs": [],
   "source": [
    "import numpy as np\n",
    "from matplotlib import pyplot as plt\n",
    "from math import factorial"
   ]
  },
  {
   "cell_type": "markdown",
   "id": "148aaa02",
   "metadata": {},
   "source": [
    "### Задача 1"
   ]
  },
  {
   "cell_type": "markdown",
   "id": "5a296358",
   "metadata": {},
   "source": [
    "Воспользуемся разложением в ряд Тейлора функции\n",
    "\n",
    "$func(x) = \\frac{1}{1 - x} = 1 + x + x^2 + x^3 + \\dots = \\sum\\limits_{n=0}^{\\infty} x^n$ при $|x| < 1$.\n",
    "\n",
    "При $x < 0$ этот ряд знакопеременный. Сведем его к знакопостоянному:\n",
    "\n",
    "$\\text{sc_func}(x) = \\frac{1}{1 - x} = \\frac{1}{2 - \\frac{1 + x}{1}} = \\frac{1}{2 - \\frac{1}{func(-x)}}.$"
   ]
  },
  {
   "cell_type": "code",
   "execution_count": 6,
   "id": "9cf69ed9",
   "metadata": {},
   "outputs": [
    {
     "name": "stdout",
     "output_type": "stream",
     "text": [
      "Alternating sum relative error: 16.26%\n",
      " Const-sign sum relative error: 0.18%\n"
     ]
    }
   ],
   "source": [
    "x = -0.982\n",
    "n = 100\n",
    "true_val = 1 / (1 - x)\n",
    "\n",
    "def func(x):\n",
    "    res = np.float16(0)\n",
    "    for k in range(n):\n",
    "        res += x ** k\n",
    "    return res\n",
    "\n",
    "def sc_func(x):\n",
    "    return 1 / (2 - 1 / func(-x))\n",
    "\n",
    "print(f'Alternating sum relative error: {100 * np.abs(func(x) - true_val) / true_val:.2f}%')\n",
    "print(f' Const-sign sum relative error: {100 * np.abs(sc_func(x) - true_val) / true_val:.2f}%')"
   ]
  },
  {
   "cell_type": "markdown",
   "id": "edf65df6",
   "metadata": {},
   "source": [
    "### Задача 2"
   ]
  },
  {
   "cell_type": "code",
   "execution_count": 3,
   "id": "773ccb18",
   "metadata": {},
   "outputs": [],
   "source": [
    "def stupid_sum(arr):\n",
    "    summ = np.float32(0)\n",
    "    \n",
    "    for x in arr:\n",
    "        summ += x\n",
    "        \n",
    "    return summ"
   ]
  },
  {
   "cell_type": "code",
   "execution_count": 4,
   "id": "ea495397",
   "metadata": {},
   "outputs": [],
   "source": [
    "def block_sum(arr, block_size):\n",
    "    summ = np.float32(0)\n",
    "    size = len(arr)\n",
    "    blocks_num = int(size / block_size)\n",
    "    \n",
    "    for block_id in range(blocks_num):\n",
    "        part_sum = np.float32(0)\n",
    "        start_id = block_id * block_size\n",
    "        \n",
    "        for x in arr[start_id : start_id + block_size]:\n",
    "            part_sum += x\n",
    "        \n",
    "        summ += part_sum\n",
    "        \n",
    "    if size % block_size != 0:\n",
    "        part_sum = np.float32(0)\n",
    "        \n",
    "        for x in arr[blocks_num * block_size :]:\n",
    "            part_sum += x\n",
    "        \n",
    "        summ += part_sum\n",
    "        \n",
    "    return summ"
   ]
  },
  {
   "cell_type": "code",
   "execution_count": 5,
   "id": "a3a1cd9a",
   "metadata": {},
   "outputs": [],
   "source": [
    "def tree_sum(arr):\n",
    "    tree = arr.copy()\n",
    "    size = len(tree)\n",
    "    \n",
    "    while size > 1:\n",
    "        mid = int(size / 2)\n",
    "        \n",
    "        for i in range(mid):\n",
    "            tree[i] += tree[mid + i]\n",
    "            \n",
    "        if size % 2 == 1:\n",
    "            tree[mid] = tree[size - 1]\n",
    "            \n",
    "        size = int((size + 1) / 2)\n",
    "        \n",
    "    return tree[0]"
   ]
  },
  {
   "cell_type": "code",
   "execution_count": 6,
   "id": "5bb2219b",
   "metadata": {},
   "outputs": [],
   "source": [
    "def kahan_sum(arr):\n",
    "    summ = np.float32(0)\n",
    "    e = np.float32(0)\n",
    "    \n",
    "    for x in arr:\n",
    "        z = summ\n",
    "        y = x + e\n",
    "        summ = z + y\n",
    "        e = (z - summ) + y\n",
    "        \n",
    "    return summ"
   ]
  },
  {
   "cell_type": "code",
   "execution_count": 11,
   "id": "2c5bbcab",
   "metadata": {
    "scrolled": true
   },
   "outputs": [
    {
     "name": "stdout",
     "output_type": "stream",
     "text": [
      "Relative error:\n",
      "Stupid summ: 2.14%\n",
      " Block summ: 0.00015728261738017372%\n",
      "  Tree_summ: 6.393706295986438e-06%\n",
      " Kahan summ: 3.836063933773572e-06%\n"
     ]
    }
   ],
   "source": [
    "n = int(1e7)\n",
    "vals = [1e-9, 1.0, 1e3]\n",
    "arr = np.random.permutation(np.array(vals * n, dtype=np.float32))\n",
    "true_summ = vals[0] * n + vals[1] * n + vals[2] * n\n",
    "\n",
    "print('Relative error:')\n",
    "print(f'Stupid summ: {100 * np.abs(stupid_sum(arr) - true_summ) / true_summ:.2f}%')\n",
    "print(f' Block summ: {100 * np.abs(block_sum(arr, 3000) - true_summ) / true_summ}%')\n",
    "print(f'  Tree_summ: {100 * np.abs(tree_sum(arr) - true_summ) / true_summ}%')\n",
    "print(f' Kahan summ: {100 * np.abs(kahan_sum(arr) - true_summ) / true_summ}%')"
   ]
  },
  {
   "cell_type": "markdown",
   "id": "95bce89d",
   "metadata": {},
   "source": [
    "### Задача 3"
   ]
  },
  {
   "cell_type": "code",
   "execution_count": 9,
   "id": "8b7d3889",
   "metadata": {
    "scrolled": false
   },
   "outputs": [
    {
     "name": "stdout",
     "output_type": "stream",
     "text": [
      "Optimal delta: 1.0110000000000001e-05\n"
     ]
    },
    {
     "data": {
      "image/png": "[encoded data removed]",
      "text/plain": [
       "<Figure size 640x480 with 1 Axes>"
      ]
     },
     "metadata": {},
     "output_type": "display_data"
    }
   ],
   "source": [
    "def first_derivative(f, x, delta):\n",
    "    return (f(x + delta) - f(x - delta)) / (2 * delta)\n",
    "\n",
    "f = lambda x: np.exp(x)\n",
    "x = 5\n",
    "analyt_der = np.exp(x)\n",
    "deltas = np.linspace(10 ** (-8), 10 ** (-4), 100)\n",
    "errors = []\n",
    "\n",
    "for delta in deltas:\n",
    "    errors.append(np.abs(first_derivative(f, x, delta) - analyt_der))\n",
    "\n",
    "plt.plot(deltas, errors)\n",
    "plt.xscale('log')\n",
    "plt.yscale('log')\n",
    "plt.xlabel('delta')\n",
    "plt.ylabel('error')\n",
    "plt.title('Error dependence from step')\n",
    "print(f'Optimal delta: {deltas[np.argmin(errors)]}')"
   ]
  },
  {
   "cell_type": "markdown",
   "id": "9b000fef",
   "metadata": {},
   "source": [
    "Пусть функция $f(x)$ ограничена (локально ограничена): $|f(\\xi)| < M_0$ и $|f''(\\xi)| < M_2$, тогда:\n",
    "\n",
    "$|f'(x) - \\frac{f(x+h)(1 + \\epsilon) - f(x-h)(1 + \\epsilon)}{2h}| = |f'(x) - \\frac{f(x) + hf'(x) + \\frac{h^2}{2}f''(\\xi_1) - f(x) + hf'(x) - \\frac{h^2}{2}f''(\\xi_2)}{2h} - \\frac{f(x + h)\\epsilon - f(x - h)\\epsilon}{2h}| \\leq \\frac{h M_2}{2} + \\frac{2 \\epsilon M_0}{h}.$\n",
    "\n",
    "Оптимальное $h$ такое, что $\\frac{h M_2}{2} + \\frac{2 \\epsilon M_0}{h}$ минимально:\n",
    "\n",
    "$\\frac{h M_2}{2} = \\frac{2 \\epsilon M_0}{h} \\Rightarrow h = \\sqrt{\\frac{4 \\epsilon M_0}{M_2}}.$"
   ]
  },
  {
   "cell_type": "code",
   "execution_count": null,
   "id": "07fe24ab",
   "metadata": {},
   "outputs": [],
   "source": []
  }
 ],
 "metadata": {
  "kernelspec": {
   "display_name": "Python 3 (ipykernel)",
   "language": "python",
   "name": "python3"
  },
  "language_info": {
   "codemirror_mode": {
    "name": "ipython",
    "version": 3
   },
   "file_extension": ".py",
   "mimetype": "text/x-python",
   "name": "python",
   "nbconvert_exporter": "python",
   "pygments_lexer": "ipython3",
   "version": "3.10.12"
  }
 },
 "nbformat": 4,
 "nbformat_minor": 5
}
