{
 "cells": [
  {
   "cell_type": "markdown",
   "id": "dbdc3cf6",
   "metadata": {},
   "source": [
    "### Задача 1\n",
    "$\\forall A\\in \\mathbb{C}^{n\\times m} \\ \\ \\ \\| A\\| _{F}^{2} =\\sum\\limits _{i=0}^{n}\\sum\\limits _{j=0}^{m} |a_{ij} |^{2} =\\sum\\limits _{i=0}^{n}\\sum\\limits _{j=0}^{n}\\overline{a_{ij}} a_{ij} =trace\\left(A^{*} A\\right)$\n",
    "\n",
    "$\\forall \\ унитарных\\ Q,V\\in \\mathbb{C}^{n\\times m}$\n",
    "\n",
    "$\\|QAV\\|_{F}^{2} = trace\\left(\\left(QAV\\right)^* QAV\\right) = trace\\left(V^* A^* Q^* QAV\\right) = trace\\left(VV^* A^* Q^* Q A\\right) = trace\\left(I A^* I A\\right) = trace\\left(A^* A\\right) = \\|A\\|_{F}^{2}.$\n",
    "\n",
    "Тогда $\\|QAV\\|_{F} = \\|A\\|_{F}.$"
   ]
  },
  {
   "cell_type": "markdown",
   "id": "066e2cfe",
   "metadata": {},
   "source": [
    "### Задача 2\n",
    "$\\forall z \\in \\mathbb{C}^n \\ \\ \\ z^* A^T A z = \\langle z, \\left(A^T A\\right)^T z\\rangle = \\langle z, AA^T z\\rangle = \\langle A^T z, A^T z\\rangle = \\|A z\\|^2 \\geqslant 0.$\n",
    "\n",
    "То есть $A^T A$ неотрицательно определена.\n",
    "\n",
    "Пусть $A$ имеет полный ранг, тогда $\\forall z : A^T z \\neq \\vec{0} \\Rightarrow \\|A^T z\\|^2 \\neq 0 \\Rightarrow \\|A^T z\\|^2 > 0$, то есть $A^T A$ положительно определена.\n",
    "\n",
    "Пусть $A$ имеет полный ранг, тогда $A^T A$ также полноранговая $\\Rightarrow \\det{A^T A} \\neq 0 \\Rightarrow A^T A$ обратима."
   ]
  },
  {
   "cell_type": "code",
   "execution_count": null,
   "id": "c862d135",
   "metadata": {},
   "outputs": [],
   "source": []
  }
 ],
 "metadata": {
  "kernelspec": {
   "display_name": "Python 3 (ipykernel)",
   "language": "python",
   "name": "python3"
  },
  "language_info": {
   "codemirror_mode": {
    "name": "ipython",
    "version": 3
   },
   "file_extension": ".py",
   "mimetype": "text/x-python",
   "name": "python",
   "nbconvert_exporter": "python",
   "pygments_lexer": "ipython3",
   "version": "3.10.6"
  }
 },
 "nbformat": 4,
 "nbformat_minor": 5
}
