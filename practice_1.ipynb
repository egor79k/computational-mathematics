{
 "cells": [
  {
   "cell_type": "code",
   "execution_count": 1,
   "id": "9fb3dacd",
   "metadata": {},
   "outputs": [],
   "source": [
    "import numpy as np"
   ]
  },
  {
   "cell_type": "code",
   "execution_count": 2,
   "id": "1ae1e718",
   "metadata": {},
   "outputs": [],
   "source": [
    "def cholesky_decomposition(A):\n",
    "    L = np.zeros_like(A)\n",
    "    n = A.shape[0]\n",
    "    \n",
    "    for j in range(n):\n",
    "        L[j, j] = np.sqrt(A[j, j] - np.sum(L[j, 0:j] ** 2))\n",
    "        for i in range(j + 1, n):\n",
    "            L[i, j] = (A[i, j] - np.sum(L[j, 0:j] * L[i, 0:j])) / L[j, j]\n",
    "\n",
    "    return L"
   ]
  },
  {
   "cell_type": "code",
   "execution_count": 3,
   "id": "2b9aecb2",
   "metadata": {},
   "outputs": [],
   "source": [
    "def solve_upper_triangle(A, b):\n",
    "    x = np.zeros((A.shape[0]))\n",
    "    for i in range(A.shape[0] - 1, -1, -1):\n",
    "        x[i] = (b[i] - A[i, i + 1:].dot(x[i + 1:])) / A[i, i]\n",
    "    return x\n",
    "\n",
    "\n",
    "def solve_lower_triangle(A, b):\n",
    "    x = np.zeros((A.shape[0]))\n",
    "    for i in range(0, A.shape[0]):\n",
    "        x[i] = (b[i] - A[i, :i].dot(x[:i])) / A[i, i]\n",
    "    return x"
   ]
  },
  {
   "cell_type": "code",
   "execution_count": 4,
   "id": "135cec12",
   "metadata": {},
   "outputs": [],
   "source": [
    "def cholesky_solve(A, b):\n",
    "    L = cholesky_decomposition(A)\n",
    "    y = solve_lower_triangle(L, b)\n",
    "    return solve_upper_triangle(L.T, y)"
   ]
  },
  {
   "cell_type": "code",
   "execution_count": 5,
   "id": "58c3ddf4",
   "metadata": {},
   "outputs": [],
   "source": [
    "def cholesky_lstsq(A, b):\n",
    "    # Build symmetric, positive-definite matrix\n",
    "    C = A.T.dot(A)\n",
    "    L = cholesky_decomposition(C)\n",
    "    y = solve_lower_triangle(L, A.T.dot(b))\n",
    "    return solve_upper_triangle(L.T, y)"
   ]
  },
  {
   "cell_type": "code",
   "execution_count": 12,
   "id": "0f709be7",
   "metadata": {},
   "outputs": [],
   "source": [
    "def test_solve(sizes):\n",
    "#     size = 20\n",
    "    \n",
    "    for size in sizes:\n",
    "        # Generate random symmetric, positive-definite matrix\n",
    "        A = np.random.uniform(0, 100, (size, size))\n",
    "        A = A.T.dot(A)\n",
    "        b = np.random.uniform(0, 100, size)\n",
    "\n",
    "        # Solve using cholesky decomposition\n",
    "        x = cholesky_solve(A, b)\n",
    "\n",
    "        # Solve using numpy\n",
    "        x_true = np.linalg.solve(A, b)\n",
    "\n",
    "        # Compare results\n",
    "        print('\\nSize: ', size, 'Error: ', np.linalg.norm(x - x_true))\n",
    "\n",
    "\n",
    "def test_lstsq(sizes):\n",
    "#     size = (17, 10)\n",
    "    \n",
    "    for size in sizes:\n",
    "        # Generate random matrix\n",
    "        A = np.random.uniform(0, 100, size)\n",
    "        b = np.random.uniform(0, 100, size[0])\n",
    "\n",
    "        # Solve using cholesky decomposition\n",
    "        x = cholesky_lstsq(A, b)\n",
    "\n",
    "        # Solve using numpy\n",
    "        x_true = np.linalg.lstsq(A, b, rcond=None)[0]\n",
    "\n",
    "        # Compare results\n",
    "        print('\\nSize: ', size, 'Error: ', np.linalg.norm(x - x_true))"
   ]
  },
  {
   "cell_type": "code",
   "execution_count": 13,
   "id": "e279b8f3",
   "metadata": {},
   "outputs": [
    {
     "name": "stdout",
     "output_type": "stream",
     "text": [
      "Solve linear system:\n",
      "\n",
      "Size:  3 Error:  1.0103182026100663e-16\n",
      "\n",
      "Size:  5 Error:  2.739844181681855e-13\n",
      "\n",
      "Size:  10 Error:  1.57377388878087e-10\n",
      "\n",
      "Size:  20 Error:  1.212858309640873e-13\n",
      "\n",
      "Size:  50 Error:  5.143516853461974e-08\n",
      "\n",
      "Size:  100 Error:  7.209777634860486e-11\n",
      "\n",
      "Solve least squares problem:\n",
      "\n",
      "Size:  (5, 3) Error:  6.704249325346046e-16\n",
      "\n",
      "Size:  (20, 17) Error:  4.956489995302799e-14\n"
     ]
    }
   ],
   "source": [
    "print('Solve linear system:')\n",
    "test_solve([3, 5, 10, 20, 50, 100])\n",
    "\n",
    "print('\\nSolve least squares problem:')\n",
    "test_lstsq([(5, 3), (20, 17)])"
   ]
  },
  {
   "cell_type": "code",
   "execution_count": null,
   "id": "5c56c0fb",
   "metadata": {},
   "outputs": [],
   "source": []
  }
 ],
 "metadata": {
  "kernelspec": {
   "display_name": "Python 3 (ipykernel)",
   "language": "python",
   "name": "python3"
  },
  "language_info": {
   "codemirror_mode": {
    "name": "ipython",
    "version": 3
   },
   "file_extension": ".py",
   "mimetype": "text/x-python",
   "name": "python",
   "nbconvert_exporter": "python",
   "pygments_lexer": "ipython3",
   "version": "3.10.6"
  }
 },
 "nbformat": 4,
 "nbformat_minor": 5
}
