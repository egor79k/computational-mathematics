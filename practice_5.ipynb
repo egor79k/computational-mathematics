{
 "cells": [
  {
   "cell_type": "markdown",
   "id": "4cd95972",
   "metadata": {},
   "source": [
    "## Практическое задание 5. Квадратуры Гаусса"
   ]
  },
  {
   "cell_type": "code",
   "execution_count": 1,
   "id": "384492ad",
   "metadata": {},
   "outputs": [],
   "source": [
    "import numpy as np\n",
    "import matplotlib.pyplot as plt\n",
    "from scipy import integrate"
   ]
  },
  {
   "cell_type": "code",
   "execution_count": 2,
   "id": "a9f5300d",
   "metadata": {},
   "outputs": [],
   "source": [
    "def lagrange_poly(x, P, i):\n",
    "    res = 1\n",
    "    for j in range(len(P)):\n",
    "        if j != i:\n",
    "            res *= (x - P[j]) / (P[i] - P[j])\n",
    "    return res\n",
    "\n",
    "\n",
    "def integrate_lagrange(f, a, b, n, show_error=False):\n",
    "    # Calculate knots\n",
    "    nr = np.arange(1, n)\n",
    "    A = np.diag(nr / (2 * nr + 1), k=-1) + np.diag(nr / (2 * (nr - 1) + 1), k=1)\n",
    "    points = np.linalg.eig(A)[0]\n",
    "    points.sort()\n",
    "    \n",
    "    # Calculate weights\n",
    "    weights = np.zeros(n)\n",
    "    \n",
    "    for i in range(n):\n",
    "        l_i = lambda x: lagrange_poly(x, points, i)\n",
    "        weights[i] = integrate.quad(l_i, -1, 1)[0]\n",
    "    \n",
    "    # Scale from [-1, 1] to [a, b]\n",
    "    points = (points + 1) * (b - a) / 2 + a\n",
    "    \n",
    "    if show_error:\n",
    "        # Compare with leggauss()\n",
    "        points_true, weights_true = np.polynomial.legendre.leggauss(n)\n",
    "        points_true = (points_true + 1) * (b - a) / 2 + a\n",
    "        print(f'Knots error: {np.linalg.norm(points - points_true):.3},\\nWeights error: {np.linalg.norm(weights - weights_true):.3}')\n",
    "    \n",
    "    return np.sum(weights * f(points)) * (b - a) / 2"
   ]
  },
  {
   "cell_type": "markdown",
   "id": "606c5b27",
   "metadata": {},
   "source": [
    "Проверим, что квадратура на $n$ узлах алгебраически точна для многочленов степени ниже чем $2n-1$"
   ]
  },
  {
   "cell_type": "code",
   "execution_count": 3,
   "id": "38a9b6b0",
   "metadata": {},
   "outputs": [],
   "source": [
    "def test_1(f, a, b, n):\n",
    "    res = integrate_lagrange(f, a, b, n, True)\n",
    "    res_true = integrate.quad(f, a, b)[0]\n",
    "    print(f'\\nGauss: {res}\\n' +\n",
    "          f'True : {res_true}\\n' +\n",
    "          f'\\nIntegration error: {np.linalg.norm(res - res_true)}')"
   ]
  },
  {
   "cell_type": "markdown",
   "id": "883d1599",
   "metadata": {},
   "source": [
    "Многочлен степени 4"
   ]
  },
  {
   "cell_type": "code",
   "execution_count": 4,
   "id": "e6f21763",
   "metadata": {},
   "outputs": [],
   "source": [
    "def f(x):\n",
    "    return x ** 4 + 5 * x ** 3 - 19 * x ** 2 + 5 * x + 2"
   ]
  },
  {
   "cell_type": "markdown",
   "id": "04aa81e2",
   "metadata": {},
   "source": [
    "При $n < 3$ результат некорректный"
   ]
  },
  {
   "cell_type": "code",
   "execution_count": 5,
   "id": "3b0e6cfe",
   "metadata": {},
   "outputs": [
    {
     "name": "stdout",
     "output_type": "stream",
     "text": [
      "Knots error: 4.44e-16,\n",
      "Weights error: 2.48e-16\n",
      "\n",
      "Gauss: 25881.111111111113\n",
      "True : 26436.666666666664\n",
      "\n",
      "Integration error: 555.5555555555511\n"
     ]
    }
   ],
   "source": [
    "test_1(f, 0, 10, 2)"
   ]
  },
  {
   "cell_type": "markdown",
   "id": "2f24488c",
   "metadata": {},
   "source": [
    "При $n \\geqslant 3$ результат точный"
   ]
  },
  {
   "cell_type": "code",
   "execution_count": 6,
   "id": "ac08ba61",
   "metadata": {},
   "outputs": [
    {
     "name": "stdout",
     "output_type": "stream",
     "text": [
      "Knots error: 1.11e-15,\n",
      "Weights error: 4.71e-16\n",
      "\n",
      "Gauss: 26436.666666666675\n",
      "True : 26436.666666666664\n",
      "\n",
      "Integration error: 1.0913936421275139e-11\n"
     ]
    }
   ],
   "source": [
    "test_1(f, 0, 10, 3)"
   ]
  },
  {
   "cell_type": "code",
   "execution_count": 7,
   "id": "afef6031",
   "metadata": {},
   "outputs": [],
   "source": [
    "np.random.seed(0)\n",
    "\n",
    "def get_rand_poly(n):\n",
    "    a = np.random.uniform(-100, 100, n)\n",
    "    p = np.arange(n)\n",
    "    \n",
    "    def p(x):\n",
    "        res = 0\n",
    "        for i in range(n):\n",
    "            res += a[i] * x ** i\n",
    "        return res\n",
    "    \n",
    "    return p\n",
    "#     return lambda X: [np.sum(x ** p * a) for x in X]"
   ]
  },
  {
   "cell_type": "markdown",
   "id": "cff47d27",
   "metadata": {},
   "source": [
    "Еще пример на границе точности"
   ]
  },
  {
   "cell_type": "code",
   "execution_count": 8,
   "id": "657c7927",
   "metadata": {},
   "outputs": [
    {
     "name": "stdout",
     "output_type": "stream",
     "text": [
      "Knots error: 4.72e-15,\n",
      "Weights error: 4.1e-15\n",
      "\n",
      "Gauss: 297843080.3475052\n",
      "True : 297843080.3475054\n",
      "\n",
      "Integration error: 1.7881393432617188e-07\n",
      "\n",
      "\n",
      "Knots error: 1.78e-15,\n",
      "Weights error: 1.23e-15\n",
      "\n",
      "Gauss: 297677926.62221277\n",
      "True : 297843080.3475054\n",
      "\n",
      "Integration error: 165153.72529262304\n"
     ]
    }
   ],
   "source": [
    "f = get_rand_poly(11)\n",
    "test_1(f, -5, 2, 6)\n",
    "print('\\n')\n",
    "test_1(f, -5, 2, 5)"
   ]
  },
  {
   "cell_type": "markdown",
   "id": "c2a93324",
   "metadata": {},
   "source": [
    "Проверим зависимость точности от числа узлов"
   ]
  },
  {
   "cell_type": "code",
   "execution_count": 9,
   "id": "c4534558",
   "metadata": {
    "scrolled": false
   },
   "outputs": [
    {
     "data": {
      "image/png": "[encoded data removed]",
      "text/plain": [
       "<Figure size 720x504 with 1 Axes>"
      ]
     },
     "metadata": {
      "needs_background": "light"
     },
     "output_type": "display_data"
    }
   ],
   "source": [
    "def get_accuracy(f, a, b, n):\n",
    "    res = integrate_lagrange(f, a, b, n)\n",
    "    res_true = integrate.quad(f, a, b)[0]\n",
    "    return np.abs((res - res_true) / res_true)\n",
    "\n",
    "\n",
    "def test_2(f, N):\n",
    "    nr = np.arange(1, N)\n",
    "    accuracy = [get_accuracy(f, 0, 1, n) for n in nr]\n",
    "    \n",
    "    plt.figure(figsize=(10, 7))\n",
    "    plt.plot(nr, accuracy)\n",
    "    plt.yscale('log')\n",
    "    plt.title('Accuracy')\n",
    "    plt.xlabel('knots num')\n",
    "    plt.ylabel('relative error')\n",
    "    \n",
    "\n",
    "test_2(get_rand_poly(17), 20)"
   ]
  },
  {
   "cell_type": "code",
   "execution_count": 10,
   "id": "eb962ea9",
   "metadata": {},
   "outputs": [
    {
     "data": {
      "image/png": "[encoded data removed]",
      "text/plain": [
       "<Figure size 720x504 with 1 Axes>"
      ]
     },
     "metadata": {
      "needs_background": "light"
     },
     "output_type": "display_data"
    }
   ],
   "source": [
    "test_2(lambda x: np.sin(x), 15)"
   ]
  },
  {
   "cell_type": "code",
   "execution_count": 11,
   "id": "f0fad946",
   "metadata": {},
   "outputs": [
    {
     "data": {
      "image/png": "[encoded data removed]",
      "text/plain": [
       "<Figure size 720x504 with 1 Axes>"
      ]
     },
     "metadata": {
      "needs_background": "light"
     },
     "output_type": "display_data"
    }
   ],
   "source": [
    "test_2(lambda x: np.cos(x), 15)"
   ]
  }
 ],
 "metadata": {
  "kernelspec": {
   "display_name": "Python 3 (ipykernel)",
   "language": "python",
   "name": "python3"
  },
  "language_info": {
   "codemirror_mode": {
    "name": "ipython",
    "version": 3
   },
   "file_extension": ".py",
   "mimetype": "text/x-python",
   "name": "python",
   "nbconvert_exporter": "python",
   "pygments_lexer": "ipython3",
   "version": "3.10.12"
  }
 },
 "nbformat": 4,
 "nbformat_minor": 5
}
